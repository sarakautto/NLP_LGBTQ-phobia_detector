{
  "nbformat": 4,
  "nbformat_minor": 0,
  "metadata": {
    "colab": {
      "provenance": []
    },
    "kernelspec": {
      "name": "python3",
      "display_name": "Python 3"
    },
    "language_info": {
      "name": "python"
    }
  },
  "cells": [
    {
      "cell_type": "code",
      "execution_count": 16,
      "metadata": {
        "colab": {
          "base_uri": "https://localhost:8080/"
        },
        "id": "S6r8q5JjQZRh",
        "outputId": "f6f9e26c-6e25-42bd-d2ff-6044cdf8fe41"
      },
      "outputs": [
        {
          "output_type": "stream",
          "name": "stdout",
          "text": [
            "Drive already mounted at /content/drive; to attempt to forcibly remount, call drive.mount(\"/content/drive\", force_remount=True).\n"
          ]
        }
      ],
      "source": [
        "from google.colab import drive\n",
        "drive.mount('/content/drive')"
      ]
    },
    {
      "cell_type": "code",
      "source": [
        "import pandas as pd\n",
        "import numpy as np\n",
        "import os\n",
        "import pandas as pd\n",
        "import shutil\n",
        "import random\n",
        "import sys\n",
        "import time"
      ],
      "metadata": {
        "id": "wH8m8ufRcH4s"
      },
      "execution_count": 17,
      "outputs": []
    },
    {
      "cell_type": "code",
      "source": [
        "path_probs_5000='/content/drive/MyDrive/Colab Notebooks/NLP_Data/songs_and_probabilities_bert_V3_5000.csv' \n",
        "path_probs_15000='/content/drive/MyDrive/Colab Notebooks/NLP_Data/songs_and_probabilities_bert_V3_15000.csv' \n",
        "path_probs_30000='/content/drive/MyDrive/Colab Notebooks/NLP_Data/songs_and_probabilities_bert_V3_30000.csv' \n",
        "path_probs_40000='/content/drive/MyDrive/Colab Notebooks/NLP_Data/songs_and_probabilities_bert_V3_40000.csv' \n",
        "path_probs_50000='/content/drive/MyDrive/Colab Notebooks/NLP_Data/songs_and_probabilities_bert_V3_50000.csv' \n",
        "path_probs_63000='/content/drive/MyDrive/Colab Notebooks/NLP_Data/songs_and_probabilities_bert_V3_63000.csv' \n",
        "\n",
        "\n",
        "path_lyrics_processed='/content/drive/MyDrive/Colab Notebooks/NLP_Data/bert_preprocessed_songs.csv'"
      ],
      "metadata": {
        "id": "1tbhj_ZWa4ux"
      },
      "execution_count": 18,
      "outputs": []
    },
    {
      "cell_type": "code",
      "source": [
        "df_lyrics = pd.read_csv(path_lyrics_processed)\n",
        "df_probs_5000 = pd.read_csv(path_probs_5000)\n",
        "df_probs_15000 = pd.read_csv(path_probs_15000)\n",
        "df_probs_30000 = pd.read_csv(path_probs_30000)\n",
        "df_probs_40000 = pd.read_csv(path_probs_40000)\n",
        "df_probs_50000 = pd.read_csv(path_probs_50000)\n",
        "df_probs_63000 = pd.read_csv(path_probs_63000)\n",
        "\n",
        "\n",
        "df_probs_63000.head(10)\n"
      ],
      "metadata": {
        "id": "fR8MU1qKbDcp"
      },
      "execution_count": null,
      "outputs": []
    },
    {
      "cell_type": "code",
      "source": [
        "\n",
        "duplicates = df_lyrics.duplicated(subset='lyrics', keep=False)\n",
        "\n",
        "if duplicates.any():\n",
        "    \n",
        "    df_lyrics= df_lyrics.sort_values('year').drop_duplicates(subset='lyrics', keep='first')\n",
        "\n",
        "    df_lyrics = df_lyrics.reset_index(drop=True)\n",
        "\n",
        "    print(\"Duplicates removed\")\n",
        "else:\n",
        "    print(\"No duplicates found\")\n",
        "\n",
        "\n",
        "\n",
        "df_lyrics.head()"
      ],
      "metadata": {
        "id": "Q_iG1pcG6IJM"
      },
      "execution_count": null,
      "outputs": []
    },
    {
      "cell_type": "code",
      "source": [
        "df_probs_combined = pd.concat([df_probs_5000, df_probs_15000, df_probs_30000, df_probs_40000, df_probs_50000, df_probs_63000]) \n",
        "\n",
        "df_probs_combined.head()"
      ],
      "metadata": {
        "id": "pxYHVed75DVP"
      },
      "execution_count": null,
      "outputs": []
    },
    {
      "cell_type": "code",
      "source": [
        "# Joining with lyrics metadata\n",
        "merged_df = pd.merge(df_lyrics, df_probs_combined, left_on='lyrics', right_on='Lyric')\n",
        "merged_df.head()"
      ],
      "metadata": {
        "id": "3iHf0Sx25WFf"
      },
      "execution_count": null,
      "outputs": []
    },
    {
      "cell_type": "code",
      "source": [
        "# Sort by probability\n",
        "merged_df = merged_df.sort_values(by='Max Probability', ascending=False)\n",
        "\n",
        "merged_df.head(15)"
      ],
      "metadata": {
        "id": "-bQiTA7dbOLL"
      },
      "execution_count": null,
      "outputs": []
    },
    {
      "cell_type": "code",
      "source": [
        "import matplotlib.pyplot as plt\n",
        "\n",
        "# Filter on threshold\n",
        "filtered_df = merged_df[merged_df['Max Probability'] > 0.9]\n",
        "filtered_df= filtered_df.sort_values(by='Max Probability', ascending=True)\n",
        "\n",
        "filtered_df.head(10)\n"
      ],
      "metadata": {
        "id": "tb6dgcS27toY"
      },
      "execution_count": null,
      "outputs": []
    },
    {
      "cell_type": "code",
      "source": [
        "# Define the ranges for binning\n",
        "bins = [0, 0.5, 0.9, 1]\n",
        "\n",
        "merged_df['Probability Range'] = pd.cut(merged_df['Max Probability'], bins)\n",
        "\n",
        "#Value counts for each range\n",
        "value_counts = merged_df['Probability Range'].value_counts()\n",
        "\n",
        "\n",
        "sorted_counts = value_counts.sort_index()\n",
        "print(sorted_counts)\n"
      ],
      "metadata": {
        "colab": {
          "base_uri": "https://localhost:8080/"
        },
        "id": "U28f2q_Cjbph",
        "outputId": "f4085045-40a6-4cbc-a5a9-069480f4afca"
      },
      "execution_count": 36,
      "outputs": [
        {
          "output_type": "stream",
          "name": "stdout",
          "text": [
            "(0.0, 0.5]    60016\n",
            "(0.5, 0.9]     1662\n",
            "(0.9, 1.0]     1200\n",
            "Name: Probability Range, dtype: int64\n"
          ]
        }
      ]
    },
    {
      "cell_type": "code",
      "source": [
        "# Group the data by genre and count the occurrences of LGBTQ-phobia predictions\n",
        "genre_counts = merged_df['tag'].value_counts()\n",
        "grouped_genre= filtered_df.groupby('tag').size()\n",
        "\n",
        "# Calculate the relative count by dividing the count of LGBTQ-phobia predictions by the total count for each genre\n",
        "relative_counts = grouped_genre / genre_counts * 100  # Multiply by 100 for percentage values\n",
        "\n",
        "print(relative_counts)"
      ],
      "metadata": {
        "colab": {
          "base_uri": "https://localhost:8080/"
        },
        "id": "4Kvm4Lr5N-E3",
        "outputId": "d03ae195-3a34-48d9-b19a-05df287865f6"
      },
      "execution_count": 42,
      "outputs": [
        {
          "output_type": "stream",
          "name": "stdout",
          "text": [
            "country    0.748621\n",
            "pop        1.659000\n",
            "rap        2.970639\n",
            "rb         2.236890\n",
            "rock       1.458610\n",
            "dtype: float64\n"
          ]
        }
      ]
    },
    {
      "cell_type": "code",
      "source": [
        "# Calculate the total count of songs for each genre\n",
        "genre_counts = merged_df['tag'].value_counts()\n",
        "\n",
        "# Group the data by genre and count the occurrences of LGBTQ-phobia predictions\n",
        "grouped_genre= filtered_df.groupby('tag').size()\n",
        "\n",
        "# Calculate the relative count by dividing the count of LGBTQ-phobia predictions by the total count for each genre\n",
        "relative_counts = grouped_genre / genre_counts * 100  # Multiply by 100 for percentage values\n",
        "\n",
        "# Create the bar plot\n",
        "plt.bar(relative_counts.index, relative_counts.values)\n",
        "\n",
        "#grouped_year.plot(kind='bar')\n",
        "\n",
        "# Set the labels and title\n",
        "plt.xlabel('Year')\n",
        "plt.ylabel('Count')\n",
        "plt.title('Count of LGBTQ-phobia Predictions by Year - BERT model')\n",
        "\n",
        "# Rotate the x-axis labels if needed\n",
        "plt.xticks(rotation=45)\n",
        "\n",
        "#plt.xticks(range(0, len(grouped_year), 10))\n",
        "\n",
        "# Display the plot\n",
        "plt.show()\n"
      ],
      "metadata": {
        "colab": {
          "base_uri": "https://localhost:8080/",
          "height": 505
        },
        "id": "vOfenP0NKNs5",
        "outputId": "302eec67-fcb6-4dbb-83d8-6cb00806a917"
      },
      "execution_count": 43,
      "outputs": [
        {
          "output_type": "display_data",
          "data": {
            "text/plain": [
              "<Figure size 640x480 with 1 Axes>"
            ],
            "image/png": "[encoded data removed]"
          },
          "metadata": {}
        }
      ]
    },
    {
      "cell_type": "code",
      "source": [
        "max_value = grouped_year.max()\n",
        "max_year = grouped_year.idxmax()\n",
        "\n",
        "# Find the minimum value and its corresponding year\n",
        "min_value = grouped_year.min()\n",
        "min_year = grouped_year.idxmin()\n",
        "\n",
        "\n",
        "mean_value = grouped_year.mean()\n",
        "print( mean_value)\n",
        "\n",
        "# Print the results\n",
        "print(\"Maximum value:\", max_value)\n",
        "print(\"Corresponding year:\", max_year)\n",
        "print(\"Minimum value:\", min_value)\n",
        "print(\"Corresponding year:\", min_year)"
      ],
      "metadata": {
        "colab": {
          "base_uri": "https://localhost:8080/"
        },
        "id": "cZDOfdDqMV8E",
        "outputId": "e24fece7-dc85-4579-e2ef-cc9f53b541fd"
      },
      "execution_count": 38,
      "outputs": [
        {
          "output_type": "stream",
          "name": "stdout",
          "text": [
            "19.047619047619047\n",
            "Maximum value: 36\n",
            "Corresponding year: 2011\n",
            "Minimum value: 6\n",
            "Corresponding year: 1977\n"
          ]
        }
      ]
    }
  ]
}