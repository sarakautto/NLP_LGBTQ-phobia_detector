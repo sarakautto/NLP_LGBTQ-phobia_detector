{
 "cells": [
  {
   "cell_type": "code",
   "execution_count": 131,
   "id": "05ecb8e5",
   "metadata": {},
   "outputs": [],
   "source": [
    "import pandas as pd\n",
    "import numpy as np\n",
    "import os\n",
    "import pandas as pd\n",
    "import shutil\n",
    "import random\n",
    "import sys\n",
    "import time\n",
    "import re\n",
    "import matplotlib.pyplot as plt\n",
    "from nltk.tokenize import word_tokenize\n"
   ]
  },
  {
   "cell_type": "code",
   "execution_count": 2,
   "id": "94fc291a",
   "metadata": {},
   "outputs": [],
   "source": [
    "lyrics = pd.read_csv(\"song_lyrics.csv\", sep = \",\")"
   ]
  },
  {
   "cell_type": "markdown",
   "id": "39012d6b",
   "metadata": {},
   "source": [
    "# EDA"
   ]
  },
  {
   "cell_type": "code",
   "execution_count": 3,
   "id": "8e8b6c39",
   "metadata": {},
   "outputs": [
    {
     "data": {
      "text/html": [
       "<div>\n",
       "<style scoped>\n",
       "    .dataframe tbody tr th:only-of-type {\n",
       "        vertical-align: middle;\n",
       "    }\n",
       "\n",
       "    .dataframe tbody tr th {\n",
       "        vertical-align: top;\n",
       "    }\n",
       "\n",
       "    .dataframe thead th {\n",
       "        text-align: right;\n",
       "    }\n",
       "</style>\n",
       "<table border=\"1\" class=\"dataframe\">\n",
       "  <thead>\n",
       "    <tr style=\"text-align: right;\">\n",
       "      <th></th>\n",
       "      <th>title</th>\n",
       "      <th>tag</th>\n",
       "      <th>artist</th>\n",
       "      <th>year</th>\n",
       "      <th>views</th>\n",
       "      <th>features</th>\n",
       "      <th>lyrics</th>\n",
       "      <th>id</th>\n",
       "      <th>language_cld3</th>\n",
       "      <th>language_ft</th>\n",
       "      <th>language</th>\n",
       "    </tr>\n",
       "  </thead>\n",
       "  <tbody>\n",
       "    <tr>\n",
       "      <th>0</th>\n",
       "      <td>Killa Cam</td>\n",
       "      <td>rap</td>\n",
       "      <td>Cam'ron</td>\n",
       "      <td>2004</td>\n",
       "      <td>173166</td>\n",
       "      <td>{\"Cam\\\\'ron\",\"Opera Steve\"}</td>\n",
       "      <td>[Chorus: Opera Steve &amp; Cam'ron]\\nKilla Cam, Ki...</td>\n",
       "      <td>1</td>\n",
       "      <td>en</td>\n",
       "      <td>en</td>\n",
       "      <td>en</td>\n",
       "    </tr>\n",
       "    <tr>\n",
       "      <th>1</th>\n",
       "      <td>Can I Live</td>\n",
       "      <td>rap</td>\n",
       "      <td>JAY-Z</td>\n",
       "      <td>1996</td>\n",
       "      <td>468624</td>\n",
       "      <td>{}</td>\n",
       "      <td>[Produced by Irv Gotti]\\n\\n[Intro]\\nYeah, hah,...</td>\n",
       "      <td>3</td>\n",
       "      <td>en</td>\n",
       "      <td>en</td>\n",
       "      <td>en</td>\n",
       "    </tr>\n",
       "    <tr>\n",
       "      <th>2</th>\n",
       "      <td>Forgive Me Father</td>\n",
       "      <td>rap</td>\n",
       "      <td>Fabolous</td>\n",
       "      <td>2003</td>\n",
       "      <td>4743</td>\n",
       "      <td>{}</td>\n",
       "      <td>Maybe cause I'm eatin\\nAnd these bastards fien...</td>\n",
       "      <td>4</td>\n",
       "      <td>en</td>\n",
       "      <td>en</td>\n",
       "      <td>en</td>\n",
       "    </tr>\n",
       "    <tr>\n",
       "      <th>3</th>\n",
       "      <td>Down and Out</td>\n",
       "      <td>rap</td>\n",
       "      <td>Cam'ron</td>\n",
       "      <td>2004</td>\n",
       "      <td>144404</td>\n",
       "      <td>{\"Cam\\\\'ron\",\"Kanye West\",\"Syleena Johnson\"}</td>\n",
       "      <td>[Produced by Kanye West and Brian Miller]\\n\\n[...</td>\n",
       "      <td>5</td>\n",
       "      <td>en</td>\n",
       "      <td>en</td>\n",
       "      <td>en</td>\n",
       "    </tr>\n",
       "    <tr>\n",
       "      <th>4</th>\n",
       "      <td>Fly In</td>\n",
       "      <td>rap</td>\n",
       "      <td>Lil Wayne</td>\n",
       "      <td>2005</td>\n",
       "      <td>78271</td>\n",
       "      <td>{}</td>\n",
       "      <td>[Intro]\\nSo they ask me\\n\"Young boy\\nWhat you ...</td>\n",
       "      <td>6</td>\n",
       "      <td>en</td>\n",
       "      <td>en</td>\n",
       "      <td>en</td>\n",
       "    </tr>\n",
       "  </tbody>\n",
       "</table>\n",
       "</div>"
      ],
      "text/plain": [
       "               title  tag     artist  year   views  \\\n",
       "0          Killa Cam  rap    Cam'ron  2004  173166   \n",
       "1         Can I Live  rap      JAY-Z  1996  468624   \n",
       "2  Forgive Me Father  rap   Fabolous  2003    4743   \n",
       "3       Down and Out  rap    Cam'ron  2004  144404   \n",
       "4             Fly In  rap  Lil Wayne  2005   78271   \n",
       "\n",
       "                                       features  \\\n",
       "0                   {\"Cam\\\\'ron\",\"Opera Steve\"}   \n",
       "1                                            {}   \n",
       "2                                            {}   \n",
       "3  {\"Cam\\\\'ron\",\"Kanye West\",\"Syleena Johnson\"}   \n",
       "4                                            {}   \n",
       "\n",
       "                                              lyrics  id language_cld3  \\\n",
       "0  [Chorus: Opera Steve & Cam'ron]\\nKilla Cam, Ki...   1            en   \n",
       "1  [Produced by Irv Gotti]\\n\\n[Intro]\\nYeah, hah,...   3            en   \n",
       "2  Maybe cause I'm eatin\\nAnd these bastards fien...   4            en   \n",
       "3  [Produced by Kanye West and Brian Miller]\\n\\n[...   5            en   \n",
       "4  [Intro]\\nSo they ask me\\n\"Young boy\\nWhat you ...   6            en   \n",
       "\n",
       "  language_ft language  \n",
       "0          en       en  \n",
       "1          en       en  \n",
       "2          en       en  \n",
       "3          en       en  \n",
       "4          en       en  "
      ]
     },
     "execution_count": 3,
     "metadata": {},
     "output_type": "execute_result"
    }
   ],
   "source": [
    "lyrics.head()"
   ]
  },
  {
   "cell_type": "code",
   "execution_count": 4,
   "id": "1f76ca5e",
   "metadata": {},
   "outputs": [
    {
     "name": "stdout",
     "output_type": "stream",
     "text": [
      "<class 'pandas.core.frame.DataFrame'>\n",
      "RangeIndex: 5134856 entries, 0 to 5134855\n",
      "Data columns (total 11 columns):\n",
      " #   Column         Dtype \n",
      "---  ------         ----- \n",
      " 0   title          object\n",
      " 1   tag            object\n",
      " 2   artist         object\n",
      " 3   year           int64 \n",
      " 4   views          int64 \n",
      " 5   features       object\n",
      " 6   lyrics         object\n",
      " 7   id             int64 \n",
      " 8   language_cld3  object\n",
      " 9   language_ft    object\n",
      " 10  language       object\n",
      "dtypes: int64(3), object(8)\n",
      "memory usage: 430.9+ MB\n"
     ]
    }
   ],
   "source": [
    "lyrics.info()"
   ]
  },
  {
   "cell_type": "code",
   "execution_count": 55,
   "id": "f1d8a771",
   "metadata": {},
   "outputs": [
    {
     "name": "stdout",
     "output_type": "stream",
     "text": [
      "1\n",
      "2023\n"
     ]
    }
   ],
   "source": [
    "#see max and min year\n",
    "print(min(df[\"year\"]))\n",
    "print(max(df[\"year\"]))"
   ]
  },
  {
   "cell_type": "markdown",
   "id": "3ae8a678",
   "metadata": {},
   "source": [
    "# Data filtering"
   ]
  },
  {
   "cell_type": "code",
   "execution_count": 106,
   "id": "4ee99ddf",
   "metadata": {},
   "outputs": [],
   "source": [
    "#filter on a language English\n",
    "lyrics_en = lyrics.loc[lyrics['language'] == \"en\"]\n",
    "\n",
    "#only use songs from 1960 to 2023\n",
    "lyrics_en = lyrics_en.loc[lyrics_en['year'] > 1959]\n",
    "lyrics_en = lyrics_en.loc[lyrics_en['year'] < 2023]"
   ]
  },
  {
   "cell_type": "code",
   "execution_count": 128,
   "id": "f0d5d8c5",
   "metadata": {},
   "outputs": [
    {
     "name": "stdout",
     "output_type": "stream",
     "text": [
      "<class 'pandas.core.frame.DataFrame'>\n",
      "Int64Index: 3338151 entries, 0 to 5134855\n",
      "Data columns (total 11 columns):\n",
      " #   Column         Dtype \n",
      "---  ------         ----- \n",
      " 0   title          object\n",
      " 1   tag            object\n",
      " 2   artist         object\n",
      " 3   year           int64 \n",
      " 4   views          int64 \n",
      " 5   features       object\n",
      " 6   lyrics         object\n",
      " 7   id             int64 \n",
      " 8   language_cld3  object\n",
      " 9   language_ft    object\n",
      " 10  language       object\n",
      "dtypes: int64(3), object(8)\n",
      "memory usage: 305.6+ MB\n"
     ]
    }
   ],
   "source": [
    "lyrics_en.info()"
   ]
  },
  {
   "cell_type": "code",
   "execution_count": 129,
   "id": "f13a3edf",
   "metadata": {},
   "outputs": [],
   "source": [
    "lyrics_en = lyrics_en.loc[lyrics_en['tag'] != \"misc\"]"
   ]
  },
  {
   "cell_type": "code",
   "execution_count": 130,
   "id": "37706c31",
   "metadata": {},
   "outputs": [
    {
     "name": "stdout",
     "output_type": "stream",
     "text": [
      "<class 'pandas.core.frame.DataFrame'>\n",
      "Int64Index: 3217307 entries, 0 to 5134855\n",
      "Data columns (total 11 columns):\n",
      " #   Column         Dtype \n",
      "---  ------         ----- \n",
      " 0   title          object\n",
      " 1   tag            object\n",
      " 2   artist         object\n",
      " 3   year           int64 \n",
      " 4   views          int64 \n",
      " 5   features       object\n",
      " 6   lyrics         object\n",
      " 7   id             int64 \n",
      " 8   language_cld3  object\n",
      " 9   language_ft    object\n",
      " 10  language       object\n",
      "dtypes: int64(3), object(8)\n",
      "memory usage: 294.6+ MB\n"
     ]
    }
   ],
   "source": [
    "lyrics_en.info()"
   ]
  },
  {
   "cell_type": "code",
   "execution_count": null,
   "id": "58592dbc",
   "metadata": {},
   "outputs": [],
   "source": [
    "lyrics_en = lyrics_en.loc[lyrics_en['tag'] != \"misc\"]"
   ]
  },
  {
   "cell_type": "code",
   "execution_count": 132,
   "id": "aa835342",
   "metadata": {},
   "outputs": [
    {
     "name": "stdout",
     "output_type": "stream",
     "text": [
      "Average lyrics length: 339.78 words\n"
     ]
    }
   ],
   "source": [
    "# Tokenize the lyrics and count the number of words\n",
    "lyrics_length = lyrics_en['lyrics'].apply(lambda x: len(word_tokenize(x))) \n",
    "\n",
    "average_length = lyrics_length.mean()\n",
    "print(f\"Average lyrics length: {average_length:.2f} words\")"
   ]
  },
  {
   "cell_type": "code",
   "execution_count": 136,
   "id": "be3dad28",
   "metadata": {},
   "outputs": [
    {
     "name": "stdout",
     "output_type": "stream",
     "text": [
      "20908\n",
      "3\n"
     ]
    }
   ],
   "source": [
    "print(max(lyrics_length))\n",
    "print(min(lyrics_length))"
   ]
  },
  {
   "cell_type": "code",
   "execution_count": 137,
   "id": "37e9f608",
   "metadata": {},
   "outputs": [],
   "source": [
    "# Filter rows based on the lyrics length\n",
    "lyrics_en = lyrics_en.loc[lyrics_length > 10]\n",
    "lyrics_en = lyrics_en.loc[lyrics_length < 1560]\n"
   ]
  },
  {
   "cell_type": "code",
   "execution_count": 138,
   "id": "e6af3668",
   "metadata": {},
   "outputs": [
    {
     "name": "stdout",
     "output_type": "stream",
     "text": [
      "<class 'pandas.core.frame.DataFrame'>\n",
      "Int64Index: 3212508 entries, 0 to 5134855\n",
      "Data columns (total 11 columns):\n",
      " #   Column         Dtype \n",
      "---  ------         ----- \n",
      " 0   title          object\n",
      " 1   tag            object\n",
      " 2   artist         object\n",
      " 3   year           int64 \n",
      " 4   views          int64 \n",
      " 5   features       object\n",
      " 6   lyrics         object\n",
      " 7   id             int64 \n",
      " 8   language_cld3  object\n",
      " 9   language_ft    object\n",
      " 10  language       object\n",
      "dtypes: int64(3), object(8)\n",
      "memory usage: 294.1+ MB\n"
     ]
    }
   ],
   "source": [
    "lyrics_en.info()"
   ]
  },
  {
   "cell_type": "code",
   "execution_count": 148,
   "id": "d0d7f4de",
   "metadata": {},
   "outputs": [],
   "source": [
    "#filter the yearly top 1000 songs based on the views\n",
    "top_songs = lyrics_en.sort_values(['year', 'views'], ascending=[True, False])\\\n",
    "              .groupby('year').head(1000)"
   ]
  },
  {
   "cell_type": "code",
   "execution_count": 149,
   "id": "c5fc38d7",
   "metadata": {},
   "outputs": [
    {
     "name": "stdout",
     "output_type": "stream",
     "text": [
      "<class 'pandas.core.frame.DataFrame'>\n",
      "Int64Index: 63000 entries, 66816 to 5041505\n",
      "Data columns (total 11 columns):\n",
      " #   Column         Non-Null Count  Dtype \n",
      "---  ------         --------------  ----- \n",
      " 0   title          62999 non-null  object\n",
      " 1   tag            63000 non-null  object\n",
      " 2   artist         63000 non-null  object\n",
      " 3   year           63000 non-null  int64 \n",
      " 4   views          63000 non-null  int64 \n",
      " 5   features       63000 non-null  object\n",
      " 6   lyrics         63000 non-null  object\n",
      " 7   id             63000 non-null  int64 \n",
      " 8   language_cld3  63000 non-null  object\n",
      " 9   language_ft    63000 non-null  object\n",
      " 10  language       63000 non-null  object\n",
      "dtypes: int64(3), object(8)\n",
      "memory usage: 5.8+ MB\n"
     ]
    }
   ],
   "source": [
    "top_songs.info()"
   ]
  },
  {
   "cell_type": "code",
   "execution_count": 150,
   "id": "9e02b634",
   "metadata": {},
   "outputs": [
    {
     "name": "stdout",
     "output_type": "stream",
     "text": [
      "0\n"
     ]
    }
   ],
   "source": [
    "#check duplicates\n",
    "num_duplicates = top_songs.duplicated(subset=['title', 'artist']).sum()\n",
    "print(num_duplicates)"
   ]
  },
  {
   "cell_type": "code",
   "execution_count": 155,
   "id": "2b2f9b06",
   "metadata": {},
   "outputs": [],
   "source": [
    "#drop rows with NaN values\n",
    "top_songs = top_songs.dropna()"
   ]
  },
  {
   "cell_type": "code",
   "execution_count": 156,
   "id": "26db78ac",
   "metadata": {},
   "outputs": [
    {
     "name": "stdout",
     "output_type": "stream",
     "text": [
      "<class 'pandas.core.frame.DataFrame'>\n",
      "Int64Index: 62999 entries, 66816 to 5041505\n",
      "Data columns (total 11 columns):\n",
      " #   Column         Non-Null Count  Dtype \n",
      "---  ------         --------------  ----- \n",
      " 0   title          62999 non-null  object\n",
      " 1   tag            62999 non-null  object\n",
      " 2   artist         62999 non-null  object\n",
      " 3   year           62999 non-null  int64 \n",
      " 4   views          62999 non-null  int64 \n",
      " 5   features       62999 non-null  object\n",
      " 6   lyrics         62999 non-null  object\n",
      " 7   id             62999 non-null  int64 \n",
      " 8   language_cld3  62999 non-null  object\n",
      " 9   language_ft    62999 non-null  object\n",
      " 10  language       62999 non-null  object\n",
      "dtypes: int64(3), object(8)\n",
      "memory usage: 5.8+ MB\n"
     ]
    }
   ],
   "source": [
    "top_songs.info()"
   ]
  },
  {
   "cell_type": "code",
   "execution_count": 157,
   "id": "0e27a0df",
   "metadata": {},
   "outputs": [],
   "source": [
    "#remove extra columns\n",
    "drop_columns = ['features', 'id', 'language_cld3', 'language_ft']  # List of column names to be dropped\n",
    "top_songs.drop(drop_columns, axis=1, inplace=True)"
   ]
  },
  {
   "cell_type": "code",
   "execution_count": 158,
   "id": "31a0bde8",
   "metadata": {},
   "outputs": [
    {
     "name": "stdout",
     "output_type": "stream",
     "text": [
      "<class 'pandas.core.frame.DataFrame'>\n",
      "Int64Index: 62999 entries, 66816 to 5041505\n",
      "Data columns (total 7 columns):\n",
      " #   Column    Non-Null Count  Dtype \n",
      "---  ------    --------------  ----- \n",
      " 0   title     62999 non-null  object\n",
      " 1   tag       62999 non-null  object\n",
      " 2   artist    62999 non-null  object\n",
      " 3   year      62999 non-null  int64 \n",
      " 4   views     62999 non-null  int64 \n",
      " 5   lyrics    62999 non-null  object\n",
      " 6   language  62999 non-null  object\n",
      "dtypes: int64(2), object(5)\n",
      "memory usage: 3.8+ MB\n"
     ]
    }
   ],
   "source": [
    "top_songs.info()"
   ]
  },
  {
   "cell_type": "code",
   "execution_count": 159,
   "id": "66758972",
   "metadata": {},
   "outputs": [
    {
     "name": "stdout",
     "output_type": "stream",
     "text": [
      "Total count of unique songs: 62999\n",
      "Total count of unique artists: 11125\n"
     ]
    }
   ],
   "source": [
    "# check unique values\n",
    "count_number_songs = top_songs.groupby(['title', 'artist']).ngroups\n",
    "print(\"Total count of unique songs:\", count_value_total)\n",
    "\n",
    "count_number_artists = top_songs.groupby(['artist']).ngroups\n",
    "print(\"Total count of unique artists:\", count_number_artists)"
   ]
  },
  {
   "cell_type": "code",
   "execution_count": 160,
   "id": "05296661",
   "metadata": {},
   "outputs": [
    {
     "name": "stdout",
     "output_type": "stream",
     "text": [
      "204\n",
      "16003444\n"
     ]
    }
   ],
   "source": [
    "#see max and min views\n",
    "print(min(top_songs[\"views\"]))\n",
    "print(max(top_songs[\"views\"]))"
   ]
  },
  {
   "cell_type": "code",
   "execution_count": 162,
   "id": "527b6be3",
   "metadata": {},
   "outputs": [
    {
     "name": "stdout",
     "output_type": "stream",
     "text": [
      "[Chorus: Opera Steve & Cam'ron]\n",
      "Killa Cam, Killa Cam, Cam\n",
      "Killa Cam, Killa Cam\n",
      "Killa Cam, Cam\n",
      "Killa Cam, Killa Cam, Cam\n",
      "Killa Killa Killa Cam\n",
      "Killa Cam, Cam, Killa (Killa!)\n",
      "Killa Cam, Killa Cam, Cam (Bases loaded)\n",
      "Killa Cam, Killa Cam (Uh-huh)\n",
      "Killa Cam, Cam (Santana on second, Jim on third)\n",
      "Killa Cam, Killa Cam, Cam (I'm at bat)\n",
      "Killa Killa Killa Cam\n",
      "Killa Cam, Cam, Killa (I'm 'bout to hit this shit out the world)\n",
      "Killa Cam (Ugh, Heatmakerz), Killa Cam, Cam\n",
      "Killa Cam, Killa Cam\n",
      "Killa Cam, Cam (Hahahaha)\n",
      "Killa Cam, Killa Cam, Cam\n",
      "Killa Killa Killa Cam\n",
      "Killa Cam, Cam, Killa (We  make this shit clap)\n",
      "Killa Cam, Killa Cam, Cam\n",
      "Killa Cam, Killa Cam\n",
      "Killa Cam, Cam\n",
      "Killa Cam, Killa Cam, Cam\n",
      "Killa Killa Killa Cam (Killa! Killa!)\n",
      "Killa Cam, Cam, Killa\n",
      "[Verse 1]\n",
      "With the goons I spar, stay in tune with ma (What up?)\n",
      "She like, \"Damn, this the realest since 'Kumbaya'\"\n",
      "Bomaye, Killa Cam, my Lord (My Lord)\n",
      "Still the man with the pan, scrilla, fam, on board\n",
      "Now bitches, they want to neuter me, niggas, they want to tutor me\n",
      "The hooligan in Houlihan's, maneuvering's nothing new to me\n",
      "Doggy, I'm from the land of grind, pan-pan: gram or dime?\n",
      "Not toes or MC when I say \"hammer time\"\n",
      "Beef: I hammer mine, when I get my hands on nines\n",
      "If I had on 'Bama line, Corduroys, Cam'll shine\n",
      "Canary burgundy: I call it \"Lemon Red\" (Red)\n",
      "Yellow diamonds in my ear, call 'em \"Lemonheads\"\n",
      "Lemonhead, end up dead, ice like Winnipeg\n",
      "Gemstone, Flintstones, you could say I'm friends with Fred\n",
      "You unhappy, scrappy? (What's going on, Scrappy?)\n",
      "I got Pataki at me\n",
      "Bitches say I'm \"Tacky Daddy,\" Range look like Laffy Taffy\n",
      "\n",
      "[Chorus]\n",
      "Killa Cam\n",
      "Killa Cam Cam (sing)\n",
      "Killa Cam Killa Cam\n",
      "Killa Cam Cam (uhh, it's me, clap)\n",
      "Killa Cam\n",
      "Killa Cam Cam\n",
      "Killa Killa Killa Cam (sing)\n",
      "Killa Cam Cam Killa (uhh, it's me, clap)\n",
      "Killa Cam\n",
      "Killa Cam Cam (sing)\n",
      "Killa Cam Killa Cam\n",
      "Killa Cam Cam (clap, it's me)\n",
      "Killa Cam\n",
      "Killa Cam Cam\n",
      "Killa Killa Killa Cam (clap)\n",
      "(Harlem, I know y'all know about this)\n",
      "Killa Cam Cam Killa (Killa!)\n",
      "[Verse 2]\n",
      "Yo, I'm from where Nicky Barnes got rich as fuck\n",
      "Rich and A hit the kitchens then were pitchin' up\n",
      "Rob Base, Mase, Doug E Fresh switched it up\n",
      "I do both, who am I to fuck tradition up? (Killa!)\n",
      "So I parked in a tow-away zone\n",
      "Chrome...I don't care\n",
      "That car a throwaway, homes (Killa!)\n",
      "Welcome to Harlem, where you welcome to problems\n",
      "Off of furlough, fellow felons get pardons\n",
      "Them niggas knew we bang\n",
      "Stood out like Pootie Tang\n",
      "Soon as the stoolie sings\n",
      "That when the toolie sing!\n",
      "Bang! Bang!\n",
      "Came from that movie ring\n",
      "Snap, crack jewelry bling\n",
      "Flapjack, ooh he bring\n",
      "Clack-clack, \"ooh he ring!\"\n",
      "Bad rap, cuties cling\n",
      "Ass cap, put them in the river\n",
      "I'm the sushi king\n",
      "And I'ma keep ya fresh\n",
      "Let the fish eat ya flesh\n",
      "Yes sir, please confess\n",
      "Just say he's the best (Killa!)\n",
      "[Chorus]\n",
      "Killa Cam (sing)\n",
      "Killa Cam Cam (clap)\n",
      "Killa Cam Killa Cam (yes)\n",
      "Killa Cam Cam (it's me, sing)\n",
      "Killa Cam\n",
      "Killa Cam Cam (sing)\n",
      "Killa Killa Killa Cam\n",
      "Killa Cam Cam Killa  (clap, yes sir, uhh)\n",
      "Killa Cam\n",
      "Killa Cam Cam (sing, clap)\n",
      "Killa Cam Killa Cam\n",
      "Killa Cam Cam (it's me)\n",
      "Killa Cam (sing, clap)\n",
      "Killa Cam Cam\n",
      "Killa Killa Killa Cam\n",
      "(Let me end this shit, listen)\n",
      "Killa Cam Cam Killa\n",
      "\n",
      "[Verse 3]\n",
      "(Killa!) Yo\n",
      "How dope is this?\n",
      "Teach you how to rope a chick\n",
      "What you want: coke or piff?\n",
      "Got it all, smoke or sniff? (everything)\n",
      "And you know my drift\n",
      "Used to figures, dough and shit (millions)\n",
      "You a rooster nigga, just a roaster, bitch\n",
      "And I roast ya bitch\n",
      "That's how it usually ends\n",
      "Tell her and her groupie friends\n",
      "Go get their coochie cleansed\n",
      "We the moody Gucci, Louis and Pucci men\n",
      "Escada, Prada\n",
      "The chopper it got the Uzi lens\n",
      "Bird's-eye view\n",
      "The birds I knew flip birds\n",
      "Bird gangs, it was birds I flew\n",
      "And word I blew off herb I grew\n",
      "I would serve on stoops\n",
      "Now swerve in coupes\n",
      "It's me, sing! Killa, uhh\n",
      "\n",
      "[Chorus]\n",
      "Killa Cam\n",
      "Killa Cam Cam\n",
      "Killa Cam Killa Cam\n",
      "Killa Cam Cam\n",
      "Killa Cam\n",
      "Killa Cam Cam\n",
      "Killa Killa Killa Cam\n",
      "Killa Cam Cam Killa\n",
      "Killa Cam\n",
      "Killa Cam Cam\n",
      "Killa Cam Killa Cam\n",
      "Killa Cam Cam\n",
      "Killa Cam\n",
      "Killa Cam Cam\n",
      "Killa Killa Killa Cam\n",
      "Killa Cam Cam Killa\n"
     ]
    }
   ],
   "source": [
    "#lyrics before cleaning\n",
    "print(top_songs[\"lyrics\"][0])\n",
    "\n",
    "# the song sections are marked by e.g. [Chorus: Opera Steve & Cam'ron] & [Verse 3] which should be removed"
   ]
  },
  {
   "cell_type": "code",
   "execution_count": 163,
   "id": "ea158463",
   "metadata": {},
   "outputs": [],
   "source": [
    "# Clean square brackets from lyrics\n",
    "def clean_lyrics(lyrics):\n",
    "    cleaned_lyrics = re.sub(r'\\[.*?\\]', '', lyrics)  # Removes square brackets and their contents\n",
    "    cleaned_lyrics = cleaned_lyrics.strip()  # Removes leading and trailing whitespace\n",
    "    return cleaned_lyrics\n",
    "\n",
    "top_songs[\"lyrics\"] = top_songs[\"lyrics\"].apply(clean_lyrics)\n"
   ]
  },
  {
   "cell_type": "code",
   "execution_count": 164,
   "id": "845c8233",
   "metadata": {},
   "outputs": [
    {
     "name": "stdout",
     "output_type": "stream",
     "text": [
      "Killa Cam, Killa Cam, Cam\n",
      "Killa Cam, Killa Cam\n",
      "Killa Cam, Cam\n",
      "Killa Cam, Killa Cam, Cam\n",
      "Killa Killa Killa Cam\n",
      "Killa Cam, Cam, Killa (Killa!)\n",
      "Killa Cam, Killa Cam, Cam (Bases loaded)\n",
      "Killa Cam, Killa Cam (Uh-huh)\n",
      "Killa Cam, Cam (Santana on second, Jim on third)\n",
      "Killa Cam, Killa Cam, Cam (I'm at bat)\n",
      "Killa Killa Killa Cam\n",
      "Killa Cam, Cam, Killa (I'm 'bout to hit this shit out the world)\n",
      "Killa Cam (Ugh, Heatmakerz), Killa Cam, Cam\n",
      "Killa Cam, Killa Cam\n",
      "Killa Cam, Cam (Hahahaha)\n",
      "Killa Cam, Killa Cam, Cam\n",
      "Killa Killa Killa Cam\n",
      "Killa Cam, Cam, Killa (We  make this shit clap)\n",
      "Killa Cam, Killa Cam, Cam\n",
      "Killa Cam, Killa Cam\n",
      "Killa Cam, Cam\n",
      "Killa Cam, Killa Cam, Cam\n",
      "Killa Killa Killa Cam (Killa! Killa!)\n",
      "Killa Cam, Cam, Killa\n",
      "\n",
      "With the goons I spar, stay in tune with ma (What up?)\n",
      "She like, \"Damn, this the realest since 'Kumbaya'\"\n",
      "Bomaye, Killa Cam, my Lord (My Lord)\n",
      "Still the man with the pan, scrilla, fam, on board\n",
      "Now bitches, they want to neuter me, niggas, they want to tutor me\n",
      "The hooligan in Houlihan's, maneuvering's nothing new to me\n",
      "Doggy, I'm from the land of grind, pan-pan: gram or dime?\n",
      "Not toes or MC when I say \"hammer time\"\n",
      "Beef: I hammer mine, when I get my hands on nines\n",
      "If I had on 'Bama line, Corduroys, Cam'll shine\n",
      "Canary burgundy: I call it \"Lemon Red\" (Red)\n",
      "Yellow diamonds in my ear, call 'em \"Lemonheads\"\n",
      "Lemonhead, end up dead, ice like Winnipeg\n",
      "Gemstone, Flintstones, you could say I'm friends with Fred\n",
      "You unhappy, scrappy? (What's going on, Scrappy?)\n",
      "I got Pataki at me\n",
      "Bitches say I'm \"Tacky Daddy,\" Range look like Laffy Taffy\n",
      "\n",
      "\n",
      "Killa Cam\n",
      "Killa Cam Cam (sing)\n",
      "Killa Cam Killa Cam\n",
      "Killa Cam Cam (uhh, it's me, clap)\n",
      "Killa Cam\n",
      "Killa Cam Cam\n",
      "Killa Killa Killa Cam (sing)\n",
      "Killa Cam Cam Killa (uhh, it's me, clap)\n",
      "Killa Cam\n",
      "Killa Cam Cam (sing)\n",
      "Killa Cam Killa Cam\n",
      "Killa Cam Cam (clap, it's me)\n",
      "Killa Cam\n",
      "Killa Cam Cam\n",
      "Killa Killa Killa Cam (clap)\n",
      "(Harlem, I know y'all know about this)\n",
      "Killa Cam Cam Killa (Killa!)\n",
      "\n",
      "Yo, I'm from where Nicky Barnes got rich as fuck\n",
      "Rich and A hit the kitchens then were pitchin' up\n",
      "Rob Base, Mase, Doug E Fresh switched it up\n",
      "I do both, who am I to fuck tradition up? (Killa!)\n",
      "So I parked in a tow-away zone\n",
      "Chrome...I don't care\n",
      "That car a throwaway, homes (Killa!)\n",
      "Welcome to Harlem, where you welcome to problems\n",
      "Off of furlough, fellow felons get pardons\n",
      "Them niggas knew we bang\n",
      "Stood out like Pootie Tang\n",
      "Soon as the stoolie sings\n",
      "That when the toolie sing!\n",
      "Bang! Bang!\n",
      "Came from that movie ring\n",
      "Snap, crack jewelry bling\n",
      "Flapjack, ooh he bring\n",
      "Clack-clack, \"ooh he ring!\"\n",
      "Bad rap, cuties cling\n",
      "Ass cap, put them in the river\n",
      "I'm the sushi king\n",
      "And I'ma keep ya fresh\n",
      "Let the fish eat ya flesh\n",
      "Yes sir, please confess\n",
      "Just say he's the best (Killa!)\n",
      "\n",
      "Killa Cam (sing)\n",
      "Killa Cam Cam (clap)\n",
      "Killa Cam Killa Cam (yes)\n",
      "Killa Cam Cam (it's me, sing)\n",
      "Killa Cam\n",
      "Killa Cam Cam (sing)\n",
      "Killa Killa Killa Cam\n",
      "Killa Cam Cam Killa  (clap, yes sir, uhh)\n",
      "Killa Cam\n",
      "Killa Cam Cam (sing, clap)\n",
      "Killa Cam Killa Cam\n",
      "Killa Cam Cam (it's me)\n",
      "Killa Cam (sing, clap)\n",
      "Killa Cam Cam\n",
      "Killa Killa Killa Cam\n",
      "(Let me end this shit, listen)\n",
      "Killa Cam Cam Killa\n",
      "\n",
      "\n",
      "(Killa!) Yo\n",
      "How dope is this?\n",
      "Teach you how to rope a chick\n",
      "What you want: coke or piff?\n",
      "Got it all, smoke or sniff? (everything)\n",
      "And you know my drift\n",
      "Used to figures, dough and shit (millions)\n",
      "You a rooster nigga, just a roaster, bitch\n",
      "And I roast ya bitch\n",
      "That's how it usually ends\n",
      "Tell her and her groupie friends\n",
      "Go get their coochie cleansed\n",
      "We the moody Gucci, Louis and Pucci men\n",
      "Escada, Prada\n",
      "The chopper it got the Uzi lens\n",
      "Bird's-eye view\n",
      "The birds I knew flip birds\n",
      "Bird gangs, it was birds I flew\n",
      "And word I blew off herb I grew\n",
      "I would serve on stoops\n",
      "Now swerve in coupes\n",
      "It's me, sing! Killa, uhh\n",
      "\n",
      "\n",
      "Killa Cam\n",
      "Killa Cam Cam\n",
      "Killa Cam Killa Cam\n",
      "Killa Cam Cam\n",
      "Killa Cam\n",
      "Killa Cam Cam\n",
      "Killa Killa Killa Cam\n",
      "Killa Cam Cam Killa\n",
      "Killa Cam\n",
      "Killa Cam Cam\n",
      "Killa Cam Killa Cam\n",
      "Killa Cam Cam\n",
      "Killa Cam\n",
      "Killa Cam Cam\n",
      "Killa Killa Killa Cam\n",
      "Killa Cam Cam Killa\n"
     ]
    }
   ],
   "source": [
    "#lyrics after cleaning\n",
    "print(top_songs[\"lyrics\"][0])"
   ]
  },
  {
   "cell_type": "code",
   "execution_count": 165,
   "id": "ad019f0f",
   "metadata": {},
   "outputs": [
    {
     "name": "stdout",
     "output_type": "stream",
     "text": [
      "<class 'pandas.core.frame.DataFrame'>\n",
      "Int64Index: 62999 entries, 66816 to 5041505\n",
      "Data columns (total 7 columns):\n",
      " #   Column    Non-Null Count  Dtype \n",
      "---  ------    --------------  ----- \n",
      " 0   title     62999 non-null  object\n",
      " 1   tag       62999 non-null  object\n",
      " 2   artist    62999 non-null  object\n",
      " 3   year      62999 non-null  int64 \n",
      " 4   views     62999 non-null  int64 \n",
      " 5   lyrics    62999 non-null  object\n",
      " 6   language  62999 non-null  object\n",
      "dtypes: int64(2), object(5)\n",
      "memory usage: 5.9+ MB\n"
     ]
    }
   ],
   "source": [
    "top_songs.info()"
   ]
  },
  {
   "cell_type": "code",
   "execution_count": 166,
   "id": "1672923a",
   "metadata": {},
   "outputs": [],
   "source": [
    "#export the dataframe into csv files\n",
    "top_songs.to_csv('lyrics_top_songs_dataset.csv', index=False)"
   ]
  }
 ],
 "metadata": {
  "kernelspec": {
   "display_name": "Python 3 (ipykernel)",
   "language": "python",
   "name": "python3"
  },
  "language_info": {
   "codemirror_mode": {
    "name": "ipython",
    "version": 3
   },
   "file_extension": ".py",
   "mimetype": "text/x-python",
   "name": "python",
   "nbconvert_exporter": "python",
   "pygments_lexer": "ipython3",
   "version": "3.9.12"
  }
 },
 "nbformat": 4,
 "nbformat_minor": 5
}
